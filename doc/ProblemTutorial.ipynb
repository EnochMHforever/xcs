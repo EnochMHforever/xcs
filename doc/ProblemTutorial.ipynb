{
 "cells": [
  {
   "cell_type": "markdown",
   "metadata": {},
   "source": [
    "## Defining a new problem\n",
    "\n",
    "To define a new problem, inherit from the `OnLineProblem` abstract class defined in the `xcs.problems` submodule. Suppose, as an example, that we wish to test the algorithm's ability to find a single important input bit from among a large number of irrelevant input bits."
   ]
  },
  {
   "cell_type": "code",
   "execution_count": 1,
   "metadata": {
    "collapsed": false
   },
   "outputs": [],
   "source": [
    "from xcs.problems import OnLineProblem\n",
    "\n",
    "class HaystackProblem(OnLineProblem):\n",
    "    pass"
   ]
  },
  {
   "cell_type": "markdown",
   "metadata": {},
   "source": [
    "We defined a new class, `HaystackProblem`, to represent this test case, which inherits from `xcs.problems.OnLineProblem` to ensure that we cannot instantiate the problem until the appropriate methods have been implemented.\n",
    "\n",
    "Now let's define an `__init__` method for this class. We'll need a parameter, `training_cycles`, to determine how many reward cycles the algorithm has to identify the \"needle\", and another parameter, `input_size`, to determine how big the \"haystack\" is."
   ]
  },
  {
   "cell_type": "code",
   "execution_count": 2,
   "metadata": {
    "collapsed": true
   },
   "outputs": [],
   "source": [
    "from xcs.problems import OnLineProblem\n",
    "\n",
    "class HaystackProblem(OnLineProblem):\n",
    "    \n",
    "    def __init__(self, training_cycles=1000, input_size=500):\n",
    "        self.input_size = input_size\n",
    "        self.possible_actions = (True, False)\n",
    "        self.initial_training_cycles = training_cycles\n",
    "        self.remaining_cycles = training_cycles\n"
   ]
  },
  {
   "cell_type": "markdown",
   "metadata": {},
   "source": [
    "The `input_size` is saved as a member for later use. Likewise, the value of `training_cycles` was saved in two places: the `remaining_cycles` member, which tells the instance how many training cycles remain for the current run, and the `intitial_training_cycles` member, which the instance will use to reset `remaining_cycles` to the original value for a new run.\n",
    "\n",
    "We also defined the `possible_actions` member, which we set to `(True, False)`. This is the value we will return when the algorithm asks for the possible actions. We will expect the algorithm to return `True` when the needle's bit is set, and `False` when the needle's bit is clear, in order to indicate that it has correctly identified the needle's location.\n",
    "\n",
    "Now let's define some methods for the class. The `OnLineProblem` defines several abstract methods:\n",
    "* `get_possible_actions()` should return the actions the algorithm can take.\n",
    "* `reset()` should restart the problem for a new run.\n",
    "* `sense()` should return a new input (the \"situation\").\n",
    "* `execute(action)` should accept an action from among those returned by `get_possible_actions()`, in response to the last situation that was returned by `sense()`. It should then return a reward value indicating how well the algorithm is doing at solving the problem.\n",
    "* `more()` should return a Boolean value to indicate whether the algorithm has remaining reward cycles in which to solve the problem.\n",
    "\n",
    "Each of these abstract methods must be defined, or we will get a TypeError when we attempt to instantiate the class:"
   ]
  },
  {
   "cell_type": "code",
   "execution_count": 3,
   "metadata": {
    "collapsed": false
   },
   "outputs": [
    {
     "ename": "TypeError",
     "evalue": "Can't instantiate abstract class HaystackProblem with abstract methods execute, get_possible_actions, more, sense",
     "output_type": "error",
     "traceback": [
      "\u001b[1;31m---------------------------------------------------------------------------\u001b[0m",
      "\u001b[1;31mTypeError\u001b[0m                                 Traceback (most recent call last)",
      "\u001b[1;32m<ipython-input-3-3ba8a9996059>\u001b[0m in \u001b[0;36m<module>\u001b[1;34m()\u001b[0m\n\u001b[1;32m----> 1\u001b[1;33m \u001b[0mproblem\u001b[0m \u001b[1;33m=\u001b[0m \u001b[0mHaystackProblem\u001b[0m\u001b[1;33m(\u001b[0m\u001b[1;33m)\u001b[0m\u001b[1;33m\u001b[0m\u001b[0m\n\u001b[0m",
      "\u001b[1;31mTypeError\u001b[0m: Can't instantiate abstract class HaystackProblem with abstract methods execute, get_possible_actions, more, sense"
     ]
    }
   ],
   "source": [
    "problem = HaystackProblem()"
   ]
  },
  {
   "cell_type": "markdown",
   "metadata": {},
   "source": [
    "The implementations for the methods other than `sense()` and `execute()` will be trivial, so let's start with those:"
   ]
  },
  {
   "cell_type": "code",
   "execution_count": 4,
   "metadata": {
    "collapsed": true
   },
   "outputs": [],
   "source": [
    "from xcs.problems import OnLineProblem\n",
    "\n",
    "class HaystackProblem(OnLineProblem):\n",
    "    \n",
    "    def __init__(self, training_cycles=1000, input_size=500):\n",
    "        self.input_size = input_size\n",
    "        self.possible_actions = (True, False)\n",
    "        self.initial_training_cycles = training_cycles\n",
    "        self.remaining_cycles = training_cycles\n",
    "\n",
    "    def get_possible_actions(self):\n",
    "        return self.possible_actions\n",
    "    \n",
    "    def reset(self):\n",
    "        self.remaining_cycles = self.initial_training_cycles\n",
    "        \n",
    "    def more(self):\n",
    "        return self.remaining_cycles > 0"
   ]
  },
  {
   "cell_type": "markdown",
   "metadata": {},
   "source": [
    "Now we are going to get into the meat of the problem. We want to give the algorithm a random string of bits of size `input_size` and have it pick out the location of the needle through trial and error, by telling us what it thinks the value of the bit associated with the needle is. For this to be a useful test, the needle needs to be in a fixed location, which we have not yet defined. Let's choose a random bit from among inputs on each run."
   ]
  },
  {
   "cell_type": "code",
   "execution_count": 5,
   "metadata": {
    "collapsed": true
   },
   "outputs": [],
   "source": [
    "import random\n",
    "\n",
    "from xcs.problems import OnLineProblem\n",
    "\n",
    "class HaystackProblem(OnLineProblem):\n",
    "    \n",
    "    def __init__(self, training_cycles=1000, input_size=500):\n",
    "        self.input_size = input_size\n",
    "        self.possible_actions = (True, False)\n",
    "        self.initial_training_cycles = training_cycles\n",
    "        self.remaining_cycles = training_cycles\n",
    "        self.needle = random.randrange(input_size)\n",
    "\n",
    "    def get_possible_actions(self):\n",
    "        return self.possible_actions\n",
    "    \n",
    "    def reset(self):\n",
    "        self.remaining_cycles = self.initial_training_cycles\n",
    "        self.needle = random.randrange(self.input_size)\n",
    "        \n",
    "    def more(self):\n",
    "        return self.remaining_cycles > 0"
   ]
  },
  {
   "cell_type": "markdown",
   "metadata": {},
   "source": [
    "The `sense()` method is going to create a string of random bits of size `input_size` and return it. But first it will pick out the value of the bit associated with the `needle` and store it in a new member, `needle_value`, so that `execute(action)` will know what the correct value for `action` is."
   ]
  },
  {
   "cell_type": "code",
   "execution_count": 6,
   "metadata": {
    "collapsed": false
   },
   "outputs": [],
   "source": [
    "import random\n",
    "\n",
    "from xcs.problems import OnLineProblem\n",
    "from xcs.bitstrings import BitString\n",
    "\n",
    "class HaystackProblem(OnLineProblem):\n",
    "    \n",
    "    def __init__(self, training_cycles=1000, input_size=500):\n",
    "        self.input_size = input_size\n",
    "        self.possible_actions = (True, False)\n",
    "        self.initial_training_cycles = training_cycles\n",
    "        self.remaining_cycles = training_cycles\n",
    "        self.needle = random.randrange(input_size)\n",
    "        self.needle_value = None\n",
    "\n",
    "    def get_possible_actions(self):\n",
    "        return self.possible_actions\n",
    "    \n",
    "    def reset(self):\n",
    "        self.remaining_cycles = self.initial_training_cycles\n",
    "        self.needle = random.randrange(self.input_size)\n",
    "        \n",
    "    def more(self):\n",
    "        return self.remaining_cycles > 0\n",
    "    \n",
    "    def sense(self):\n",
    "        haystack = BitString.random(self.input_size)\n",
    "        self.needle_value = haystack[self.needle]\n",
    "        return haystack"
   ]
  },
  {
   "cell_type": "markdown",
   "metadata": {},
   "source": [
    "Now we need to define the `execute(action)` method. In order to give the algorithm appropriate feedback to make problem solvable, we should return a high reward when it guesses the correct value for the needle bit, and a low value otherwise. Thus we will return a `1` when the action is the correct one, and a `0` otherwise."
   ]
  },
  {
   "cell_type": "code",
   "execution_count": 7,
   "metadata": {
    "collapsed": true
   },
   "outputs": [],
   "source": [
    "import random\n",
    "\n",
    "from xcs.problems import OnLineProblem\n",
    "from xcs.bitstrings import BitString\n",
    "\n",
    "class HaystackProblem(OnLineProblem):\n",
    "    \n",
    "    def __init__(self, training_cycles=1000, input_size=500):\n",
    "        self.input_size = input_size\n",
    "        self.possible_actions = (True, False)\n",
    "        self.initial_training_cycles = training_cycles\n",
    "        self.remaining_cycles = training_cycles\n",
    "        self.needle = random.randrange(input_size)\n",
    "        self.needle_value = None\n",
    "\n",
    "    def get_possible_actions(self):\n",
    "        return self.possible_actions\n",
    "    \n",
    "    def reset(self):\n",
    "        self.remaining_cycles = self.initial_training_cycles\n",
    "        self.needle = random.randrange(self.input_size)\n",
    "        \n",
    "    def more(self):\n",
    "        return self.remaining_cycles > 0\n",
    "    \n",
    "    def sense(self):\n",
    "        haystack = BitString.random(self.input_size)\n",
    "        self.needle_value = haystack[self.needle]\n",
    "        return haystack\n",
    "    \n",
    "    def execute(self, action):\n",
    "        return action == self.needle_value"
   ]
  },
  {
   "cell_type": "markdown",
   "metadata": {},
   "source": [
    "We have now defined all of the methods that `OnLineProblem` requires. Let's give it a test run."
   ]
  },
  {
   "cell_type": "code",
   "execution_count": null,
   "metadata": {
    "collapsed": false
   },
   "outputs": [],
   "source": [
    "import logging\n",
    "import xcs\n",
    "\n",
    "# Setup logging so we can see the test run as it progresses.\n",
    "logging.root.setLevel(logging.INFO)\n",
    "\n",
    "problem = HaystackProblem()\n",
    "xcs.test(problem=problem)"
   ]
  },
  {
   "cell_type": "code",
   "execution_count": null,
   "metadata": {
    "collapsed": true
   },
   "outputs": [],
   "source": []
  }
 ],
 "metadata": {
  "kernelspec": {
   "display_name": "Python 3",
   "language": "python",
   "name": "python3"
  },
  "language_info": {
   "codemirror_mode": {
    "name": "ipython",
    "version": 3
   },
   "file_extension": ".py",
   "mimetype": "text/x-python",
   "name": "python",
   "nbconvert_exporter": "python",
   "pygments_lexer": "ipython3",
   "version": "3.4.1"
  }
 },
 "nbformat": 4,
 "nbformat_minor": 0
}
