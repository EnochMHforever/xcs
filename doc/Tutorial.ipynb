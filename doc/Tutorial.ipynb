{
 "cells": [
  {
   "cell_type": "markdown",
   "metadata": {},
   "source": [
    "# XCS Tutorial\n",
    "\n",
    "This is the official tutorial for the [xcs package](https://pypi.python.org/pypi/xcs) for Python 3. You can find the latest release and get updates on the project's status at the [project home page](https://github.com/hosford42/xcs) on GitHub.com.\n",
    "\n",
    "## Installation\n",
    "\n",
    "If you have [pip](https://pip.pypa.io/en/latest/installing.html), installation of xcs is straight forward:\n",
    "\n",
    "```\n",
    "pip install xcs\n",
    "```\n",
    "\n",
    "If this goes as planned, you should see a message like this:\n",
    "\n",
    "```\n",
    "Successfully installed xcs-1.0.0\n",
    "```\n",
    "\n",
    "If you are unable to use pip, you can still install xcs manually. The latest release can be found [here](https://github.com/hosford42/xcs/releases) or [here](https://pypi.python.org/pypi/xcs). Download the zip file, unpack it, and cd into the directory. Then run:\n",
    "\n",
    "```\n",
    "python setup.py install\n",
    "```\n",
    "\n",
    "You should see a message indicating that the package was successfully installed.\n",
    "\n",
    "It is recommended that you also install numpy, though the xcs package will still work, albeit more slowly, without it. To install numpy with pip:\n",
    "\n",
    "```\n",
    "pip install numpy\n",
    "```\n",
    "\n",
    "For instructions on how to manually install numpy, visit the [numpy installation instructions page](http://docs.scipy.org/doc/numpy/user/install.html) at SciPy.org.\n",
    "\n",
    "## Testing the Newly Installed Package\n",
    "\n",
    "Let's start things off with a quick test, to verify that everything has been installed properly. First, we set up logging so we can see the test's progress."
   ]
  },
  {
   "cell_type": "code",
   "execution_count": 1,
   "metadata": {
    "collapsed": true
   },
   "outputs": [],
   "source": [
    "import logging\n",
    "logging.root.setLevel(logging.INFO)"
   ]
  },
  {
   "cell_type": "markdown",
   "metadata": {},
   "source": [
    "Then we import the xcs module and run the built-in test() function. By default, the test() function runs the canonical XCS algorithm on the 11-bit (3-bit address) MUX problem for 10,000 steps."
   ]
  },
  {
   "cell_type": "code",
   "execution_count": null,
   "metadata": {
    "collapsed": true
   },
   "outputs": [],
   "source": [
    "import xcs\n",
    "xcs.test()"
   ]
  },
  {
   "cell_type": "markdown",
   "metadata": {},
   "source": [
    "```\n",
    "INFO:xcs.problems:Possible actions:\n",
    "INFO:xcs.problems:    False\n",
    "INFO:xcs.problems:    True\n",
    "INFO:xcs.problems:Steps completed: 0\n",
    "INFO:xcs.problems:Average reward per step: 0.00000\n",
    "INFO:xcs.problems:Steps completed: 100\n",
    "INFO:xcs.problems:Average reward per step: 0.46000\n",
    "INFO:xcs.problems:Steps completed: 200\n",
    "INFO:xcs.problems:Average reward per step: 0.52000\n",
    "\n",
    ".\n",
    ".\n",
    ".\n",
    "\n",
    "00#11###### => True\n",
    "    Time Stamp: 9992\n",
    "    Average Reward: 1.0\n",
    "    Error: 0.0\n",
    "    Fitness: 0.78492797199\n",
    "    Experience: 535\n",
    "    Action Set Size: 84.31258405257977\n",
    "    Numerosity: 33\n",
    "0#1#1#1#### => True\n",
    "    Time Stamp: 9978\n",
    "    Average Reward: 1.0\n",
    "    Error: 0.0\n",
    "    Fitness: 0.813621637225\n",
    "    Experience: 325\n",
    "    Action Set Size: 75.4028428842268\n",
    "    Numerosity: 37\n",
    "\n",
    "INFO:xcs:Total time: 24.01673 seconds\n",
    "```"
   ]
  },
  {
   "cell_type": "markdown",
   "metadata": {},
   "source": [
    "## Usage\n",
    "\n",
    "Now we'll run through a quick demo of how to use existing algorithms and problems. This is essentially the same code that appears in the test() function we called above.\n",
    "\n",
    "First, we're going to need to import a few things:"
   ]
  },
  {
   "cell_type": "code",
   "execution_count": 1,
   "metadata": {
    "collapsed": false
   },
   "outputs": [],
   "source": [
    "from xcs import XCSAlgorithm, LCS\n",
    "from xcs.problems import MUXProblem, OnLineObserver"
   ]
  },
  {
   "cell_type": "markdown",
   "metadata": {},
   "source": [
    "The XCSAlgorithm class contains the actual XCS algorithm implementation. The LCS class combines the selected algorithm with its state (a Population instance) to form a learning classifier system. MUXProblem is the classic [multiplexer](http://en.wikipedia.org/wiki/Multiplexer) problem, which defaults to 3 address bits (11 bits total). OnLineObserver is a wrapper for problems which logs the inputs, actions, and rewards as the algorithm attempts to solve the problem.\n",
    "\n",
    "Now that we've imported the necessary tools, we can define the actual problem, telling it to give the algorithm 10000 reward cycles to attempt to learn the appropriate input/output mapping, and wrapping it with an observer so we can see the algorithm's progress."
   ]
  },
  {
   "cell_type": "code",
   "execution_count": 2,
   "metadata": {
    "collapsed": true
   },
   "outputs": [],
   "source": [
    "problem = OnLineObserver(MUXProblem(50000))"
   ]
  },
  {
   "cell_type": "markdown",
   "metadata": {},
   "source": [
    "Next, we'll create the algorithm which will be used to manage the classifier population and learn the mapping defined by the problem we have selected:"
   ]
  },
  {
   "cell_type": "code",
   "execution_count": 3,
   "metadata": {
    "collapsed": true
   },
   "outputs": [],
   "source": [
    "algorithm = XCSAlgorithm(problem.get_possible_actions())"
   ]
  },
  {
   "cell_type": "markdown",
   "metadata": {},
   "source": [
    "We ask the problem for the possible actions that can be taken, and pass them to the XCS algorithm so they can be used in covering operations. (Covering is the generation of a random classifier rule when too few match the current situation.) The algorithm's parameters are set to appropriate defaults for most problems, but it is straight forward to modify them if it becomes necessary."
   ]
  },
  {
   "cell_type": "code",
   "execution_count": 4,
   "metadata": {
    "collapsed": true
   },
   "outputs": [],
   "source": [
    "algorithm.exploration_probability = .1\n",
    "algorithm.discount_factor = 0\n",
    "algorithm.do_GA_subsumption = True\n",
    "algorithm.do_action_set_subsumption = True"
   ]
  },
  {
   "cell_type": "markdown",
   "metadata": {},
   "source": [
    "Here we have selected an exploration probability of .1, which will sacrifice most learning opportunities in favor of taking advantage of what has already been learned so far. This makes sense in real-time learning environment; a lower value is more appropriate in cases where the classifier is being trained in advance or is being used simply to learn a minimal rule set. The discount factor is set to 0, since future rewards are not affected at all by the currently selected action. We have also elected to turn on GA and action set subsumption, which help the system to converge to the minimal effective rule set more quickly in some types of problems.\n",
    "\n",
    "Next, we create the classifier itself:"
   ]
  },
  {
   "cell_type": "code",
   "execution_count": 5,
   "metadata": {
    "collapsed": true
   },
   "outputs": [],
   "source": [
    "classifier = LCS(algorithm)"
   ]
  },
  {
   "cell_type": "markdown",
   "metadata": {},
   "source": [
    "The LCS will create an empty population for us if we do not provide one.\n",
    "\n",
    "And finally, this is where all the magic happens:"
   ]
  },
  {
   "cell_type": "code",
   "execution_count": 6,
   "metadata": {
    "collapsed": false
   },
   "outputs": [],
   "source": [
    "classifier.learn(problem)"
   ]
  },
  {
   "cell_type": "markdown",
   "metadata": {},
   "source": [
    "We pass the problem to the classifier and ask it to learn the appropriate input/output mapping. It executes training cycles until the problem dictates that training should stop. Note that if you wish to see the progress as the algorithm learns the problem, you will need to set the logging level to INFO, as described in the previous section, before calling the learn() method.\n",
    "\n",
    "Now we can look at the fruits of our labors."
   ]
  },
  {
   "cell_type": "code",
   "execution_count": null,
   "metadata": {
    "collapsed": true
   },
   "outputs": [],
   "source": [
    "print(classifier.population)"
   ]
  },
  {
   "cell_type": "markdown",
   "metadata": {},
   "source": [
    "```\n",
    "00##00####1 => True\n",
    "    Time Stamp: 49977\n",
    "    Average Reward: 0.87821679153\n",
    "    Error: 0.202410212397\n",
    "    Fitness: 0.00194208652311\n",
    "    Experience: 0\n",
    "    Action Set Size: 1\n",
    "    Numerosity: 1\n",
    "#001######1 => True\n",
    "    Time Stamp: 49979\n",
    "    Average Reward: 0.858333333333\n",
    "    Error: 0.179444444444\n",
    "    Fitness: 0.00747704267322\n",
    "    Experience: 0\n",
    "    Action Set Size: 1\n",
    "    Numerosity: 1\n",
    "#00##1##### => True\n",
    "\n",
    ".\n",
    ".\n",
    ".\n",
    "\n",
    "001#0###### => False\n",
    "    Time Stamp: 49990\n",
    "    Average Reward: 1.0\n",
    "    Error: 0.0\n",
    "    Fitness: 0.932438846396\n",
    "    Experience: 752\n",
    "    Action Set Size: 13.743613415253174\n",
    "    Numerosity: 9\n",
    "101#####0## => False\n",
    "    Time Stamp: 49971\n",
    "    Average Reward: 1.0\n",
    "    Error: 0.0\n",
    "    Fitness: 0.960029964669\n",
    "    Experience: 741\n",
    "    Action Set Size: 16.74403701264255\n",
    "    Numerosity: 10\n",
    "```"
   ]
  },
  {
   "cell_type": "markdown",
   "metadata": {},
   "source": [
    "This gives us a printout of each rule, in the form *condition => action*, followed by various stats about the rule pertaining to the algorithm we selected. The population can also be accessed as an iterable container:"
   ]
  },
  {
   "cell_type": "code",
   "execution_count": 8,
   "metadata": {
    "collapsed": false
   },
   "outputs": [
    {
     "name": "stdout",
     "output_type": "stream",
     "text": [
      "104\n"
     ]
    }
   ],
   "source": [
    "print(len(classifier.population))"
   ]
  },
  {
   "cell_type": "code",
   "execution_count": 9,
   "metadata": {
    "collapsed": false
   },
   "outputs": [
    {
     "name": "stdout",
     "output_type": "stream",
     "text": [
      "101#####0## => False  [0.96003]\n",
      "001#0###### => False  [0.93244]\n",
      "011###0#### => False  [0.85302]\n",
      "100####0### => False  [0.67857]\n",
      "111#######0 => False  [0.93936]\n",
      "111#######1 => True  [0.89453]\n",
      "110######1# => True  [0.88251]\n",
      "#001###1### => True  [0.82224]\n",
      "01###00#0## => True  [0.78859]\n",
      "1#0####0#0# => False  [0.63669]\n",
      "011###1#### => True  [0.90256]\n",
      "#011###11#1 => True  [0.51872]\n"
     ]
    }
   ],
   "source": [
    "for condition, action in classifier.population:\n",
    "    metadata = classifier.population.get_metadata(condition, action)\n",
    "    if metadata.fitness > .5:\n",
    "        print(condition, '=>', action, ' [%.5f]' % metadata.fitness)"
   ]
  }
 ],
 "metadata": {
  "kernelspec": {
   "display_name": "Python 3",
   "language": "python",
   "name": "python3"
  },
  "language_info": {
   "codemirror_mode": {
    "name": "ipython",
    "version": 3
   },
   "file_extension": ".py",
   "mimetype": "text/x-python",
   "name": "python",
   "nbconvert_exporter": "python",
   "pygments_lexer": "ipython3",
   "version": "3.4.1"
  }
 },
 "nbformat": 4,
 "nbformat_minor": 0
}
